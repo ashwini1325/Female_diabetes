{
 "cells": [
  {
   "cell_type": "code",
   "execution_count": 1,
   "id": "989e5d51",
   "metadata": {},
   "outputs": [],
   "source": [
    "import numpy as np # linear algebra\n",
    "import pandas as pd # data processing, CSV file I/O (e.g. pd.read_csv)"
   ]
  },
  {
   "cell_type": "code",
   "execution_count": 2,
   "id": "ed2e9bc5",
   "metadata": {},
   "outputs": [],
   "source": [
    "df1 = pd.read_csv(\"diabetic_nine.csv\")"
   ]
  },
  {
   "cell_type": "code",
   "execution_count": 3,
   "id": "ceb300ca",
   "metadata": {},
   "outputs": [
    {
     "data": {
      "text/html": [
       "<div>\n",
       "<style scoped>\n",
       "    .dataframe tbody tr th:only-of-type {\n",
       "        vertical-align: middle;\n",
       "    }\n",
       "\n",
       "    .dataframe tbody tr th {\n",
       "        vertical-align: top;\n",
       "    }\n",
       "\n",
       "    .dataframe thead th {\n",
       "        text-align: right;\n",
       "    }\n",
       "</style>\n",
       "<table border=\"1\" class=\"dataframe\">\n",
       "  <thead>\n",
       "    <tr style=\"text-align: right;\">\n",
       "      <th></th>\n",
       "      <th>Unnamed: 0</th>\n",
       "      <th>gender</th>\n",
       "      <th>age</th>\n",
       "      <th>max_glu_serum</th>\n",
       "      <th>A1Cresult</th>\n",
       "      <th>insulin</th>\n",
       "      <th>change</th>\n",
       "      <th>diabetesMed</th>\n",
       "      <th>readmitted</th>\n",
       "      <th>readmitted_2</th>\n",
       "    </tr>\n",
       "  </thead>\n",
       "  <tbody>\n",
       "    <tr>\n",
       "      <th>0</th>\n",
       "      <td>0</td>\n",
       "      <td>Female</td>\n",
       "      <td>0</td>\n",
       "      <td>None</td>\n",
       "      <td>None</td>\n",
       "      <td>No</td>\n",
       "      <td>No</td>\n",
       "      <td>No</td>\n",
       "      <td>NO</td>\n",
       "      <td>No</td>\n",
       "    </tr>\n",
       "    <tr>\n",
       "      <th>1</th>\n",
       "      <td>1</td>\n",
       "      <td>Female</td>\n",
       "      <td>10</td>\n",
       "      <td>None</td>\n",
       "      <td>None</td>\n",
       "      <td>Up</td>\n",
       "      <td>Ch</td>\n",
       "      <td>Yes</td>\n",
       "      <td>&gt;30</td>\n",
       "      <td>Yes</td>\n",
       "    </tr>\n",
       "    <tr>\n",
       "      <th>2</th>\n",
       "      <td>2</td>\n",
       "      <td>Female</td>\n",
       "      <td>20</td>\n",
       "      <td>None</td>\n",
       "      <td>None</td>\n",
       "      <td>No</td>\n",
       "      <td>No</td>\n",
       "      <td>Yes</td>\n",
       "      <td>NO</td>\n",
       "      <td>No</td>\n",
       "    </tr>\n",
       "    <tr>\n",
       "      <th>3</th>\n",
       "      <td>3</td>\n",
       "      <td>Male</td>\n",
       "      <td>30</td>\n",
       "      <td>None</td>\n",
       "      <td>None</td>\n",
       "      <td>Up</td>\n",
       "      <td>Ch</td>\n",
       "      <td>Yes</td>\n",
       "      <td>NO</td>\n",
       "      <td>No</td>\n",
       "    </tr>\n",
       "    <tr>\n",
       "      <th>4</th>\n",
       "      <td>4</td>\n",
       "      <td>Male</td>\n",
       "      <td>40</td>\n",
       "      <td>None</td>\n",
       "      <td>None</td>\n",
       "      <td>Steady</td>\n",
       "      <td>Ch</td>\n",
       "      <td>Yes</td>\n",
       "      <td>NO</td>\n",
       "      <td>No</td>\n",
       "    </tr>\n",
       "    <tr>\n",
       "      <th>...</th>\n",
       "      <td>...</td>\n",
       "      <td>...</td>\n",
       "      <td>...</td>\n",
       "      <td>...</td>\n",
       "      <td>...</td>\n",
       "      <td>...</td>\n",
       "      <td>...</td>\n",
       "      <td>...</td>\n",
       "      <td>...</td>\n",
       "      <td>...</td>\n",
       "    </tr>\n",
       "    <tr>\n",
       "      <th>101758</th>\n",
       "      <td>101761</td>\n",
       "      <td>Male</td>\n",
       "      <td>70</td>\n",
       "      <td>None</td>\n",
       "      <td>&gt;8</td>\n",
       "      <td>Down</td>\n",
       "      <td>Ch</td>\n",
       "      <td>Yes</td>\n",
       "      <td>&gt;30</td>\n",
       "      <td>Yes</td>\n",
       "    </tr>\n",
       "    <tr>\n",
       "      <th>101759</th>\n",
       "      <td>101762</td>\n",
       "      <td>Female</td>\n",
       "      <td>80</td>\n",
       "      <td>None</td>\n",
       "      <td>None</td>\n",
       "      <td>Steady</td>\n",
       "      <td>No</td>\n",
       "      <td>Yes</td>\n",
       "      <td>NO</td>\n",
       "      <td>No</td>\n",
       "    </tr>\n",
       "    <tr>\n",
       "      <th>101760</th>\n",
       "      <td>101763</td>\n",
       "      <td>Male</td>\n",
       "      <td>70</td>\n",
       "      <td>None</td>\n",
       "      <td>None</td>\n",
       "      <td>Down</td>\n",
       "      <td>Ch</td>\n",
       "      <td>Yes</td>\n",
       "      <td>NO</td>\n",
       "      <td>No</td>\n",
       "    </tr>\n",
       "    <tr>\n",
       "      <th>101761</th>\n",
       "      <td>101764</td>\n",
       "      <td>Female</td>\n",
       "      <td>80</td>\n",
       "      <td>None</td>\n",
       "      <td>None</td>\n",
       "      <td>Up</td>\n",
       "      <td>Ch</td>\n",
       "      <td>Yes</td>\n",
       "      <td>NO</td>\n",
       "      <td>No</td>\n",
       "    </tr>\n",
       "    <tr>\n",
       "      <th>101762</th>\n",
       "      <td>101765</td>\n",
       "      <td>Male</td>\n",
       "      <td>70</td>\n",
       "      <td>None</td>\n",
       "      <td>None</td>\n",
       "      <td>No</td>\n",
       "      <td>No</td>\n",
       "      <td>No</td>\n",
       "      <td>NO</td>\n",
       "      <td>No</td>\n",
       "    </tr>\n",
       "  </tbody>\n",
       "</table>\n",
       "<p>101763 rows × 10 columns</p>\n",
       "</div>"
      ],
      "text/plain": [
       "        Unnamed: 0  gender  age max_glu_serum A1Cresult insulin change  \\\n",
       "0                0  Female    0          None      None      No     No   \n",
       "1                1  Female   10          None      None      Up     Ch   \n",
       "2                2  Female   20          None      None      No     No   \n",
       "3                3    Male   30          None      None      Up     Ch   \n",
       "4                4    Male   40          None      None  Steady     Ch   \n",
       "...            ...     ...  ...           ...       ...     ...    ...   \n",
       "101758      101761    Male   70          None        >8    Down     Ch   \n",
       "101759      101762  Female   80          None      None  Steady     No   \n",
       "101760      101763    Male   70          None      None    Down     Ch   \n",
       "101761      101764  Female   80          None      None      Up     Ch   \n",
       "101762      101765    Male   70          None      None      No     No   \n",
       "\n",
       "       diabetesMed readmitted readmitted_2  \n",
       "0               No         NO           No  \n",
       "1              Yes        >30          Yes  \n",
       "2              Yes         NO           No  \n",
       "3              Yes         NO           No  \n",
       "4              Yes         NO           No  \n",
       "...            ...        ...          ...  \n",
       "101758         Yes        >30          Yes  \n",
       "101759         Yes         NO           No  \n",
       "101760         Yes         NO           No  \n",
       "101761         Yes         NO           No  \n",
       "101762          No         NO           No  \n",
       "\n",
       "[101763 rows x 10 columns]"
      ]
     },
     "execution_count": 3,
     "metadata": {},
     "output_type": "execute_result"
    }
   ],
   "source": [
    "df1"
   ]
  },
  {
   "cell_type": "code",
   "execution_count": 4,
   "id": "87575ca8",
   "metadata": {},
   "outputs": [
    {
     "data": {
      "text/plain": [
       "(101763, 10)"
      ]
     },
     "execution_count": 4,
     "metadata": {},
     "output_type": "execute_result"
    }
   ],
   "source": [
    "#checking shape of the dataset\n",
    "df1.shape"
   ]
  },
  {
   "cell_type": "code",
   "execution_count": 5,
   "id": "18963caa",
   "metadata": {},
   "outputs": [
    {
     "data": {
      "text/plain": [
       "Unnamed: 0        int64\n",
       "gender           object\n",
       "age               int64\n",
       "max_glu_serum    object\n",
       "A1Cresult        object\n",
       "insulin          object\n",
       "change           object\n",
       "diabetesMed      object\n",
       "readmitted       object\n",
       "readmitted_2     object\n",
       "dtype: object"
      ]
     },
     "execution_count": 5,
     "metadata": {},
     "output_type": "execute_result"
    }
   ],
   "source": [
    "#Checking data types of each variable\n",
    "df1.dtypes"
   ]
  },
  {
   "cell_type": "code",
   "execution_count": 6,
   "id": "89c09ee8",
   "metadata": {},
   "outputs": [
    {
     "name": "stdout",
     "output_type": "stream",
     "text": [
      "gender 0\n",
      "max_glu_serum 0\n",
      "A1Cresult 0\n",
      "insulin 0\n",
      "change 0\n",
      "diabetesMed 0\n",
      "readmitted 0\n",
      "readmitted_2 0\n"
     ]
    }
   ],
   "source": [
    "#Checking for missing values in dataset\n",
    "#In the dataset missing values are represented as '?' sign\n",
    "for col in df1.columns:\n",
    "    if df1[col].dtype == object:\n",
    "         print(col,df1[col][df1[col] == '?'].count())"
   ]
  },
  {
   "cell_type": "code",
   "execution_count": 7,
   "id": "b883e4de",
   "metadata": {},
   "outputs": [
    {
     "name": "stdout",
     "output_type": "stream",
     "text": [
      "gender 0\n"
     ]
    }
   ],
   "source": [
    "# gender was coded differently so we use a custom count for this one            \n",
    "print('gender', df1['gender'][df1['gender'] == 'Unknown/Invalid'].count())            "
   ]
  },
  {
   "cell_type": "code",
   "execution_count": 8,
   "id": "5a685dd5",
   "metadata": {},
   "outputs": [],
   "source": [
    "df1['change'] = df1['change'].replace('Ch', 1)\n",
    "df1['change'] = df1['change'].replace('No', 0)\n",
    "\n",
    "df1['gender'] = df1['gender'].replace('Female', 0)\n",
    "df1['diabetesMed'] = df1['diabetesMed'].replace('Yes', 1)\n",
    "df1['diabetesMed'] = df1['diabetesMed'].replace('No', 0)\n"
   ]
  },
  {
   "cell_type": "code",
   "execution_count": 9,
   "id": "bf1dc23e",
   "metadata": {},
   "outputs": [],
   "source": [
    "df1['A1Cresult'] = df1['A1Cresult'].replace('>7', 1)\n",
    "df1['A1Cresult'] = df1['A1Cresult'].replace('>8', 1)\n",
    "df1['A1Cresult'] = df1['A1Cresult'].replace('Norm', 0)\n",
    "df1['A1Cresult'] = df1['A1Cresult'].replace('None', -99)\n",
    "df1['max_glu_serum'] = df1['max_glu_serum'].replace('>200', 1)\n",
    "df1['max_glu_serum'] = df1['max_glu_serum'].replace('>300', 1)\n",
    "df1['max_glu_serum'] = df1['max_glu_serum'].replace('Norm', 0)\n",
    "df1['max_glu_serum'] = df1['max_glu_serum'].replace('None', -99)"
   ]
  },
  {
   "cell_type": "code",
   "execution_count": 10,
   "id": "06eaa1a2",
   "metadata": {},
   "outputs": [
    {
     "data": {
      "text/plain": [
       "70    26066\n",
       "60    22482\n",
       "50    17256\n",
       "80    17197\n",
       "40     9685\n",
       "30     3775\n",
       "90     2793\n",
       "20     1657\n",
       "10      691\n",
       "0       161\n",
       "Name: age, dtype: int64"
      ]
     },
     "execution_count": 10,
     "metadata": {},
     "output_type": "execute_result"
    }
   ],
   "source": [
    "# code age intervals [0-10) - [90-100) from 1-10\n",
    "for i in range(0,10):\n",
    "    df1['age'] = df1['age'].replace('['+str(10*i)+'-'+str(10*(i+1))+')', i+1)\n",
    "df1['age'].value_counts()"
   ]
  },
  {
   "cell_type": "code",
   "execution_count": 11,
   "id": "f4da2565",
   "metadata": {},
   "outputs": [],
   "source": [
    "df1['readmitted'] = df1['readmitted'].replace('>30', 0)\n",
    "df1['readmitted'] = df1['readmitted'].replace('<30', 1)\n",
    "df1['readmitted'] = df1['readmitted'].replace('NO', 0)"
   ]
  },
  {
   "cell_type": "code",
   "execution_count": 12,
   "id": "325e0425",
   "metadata": {},
   "outputs": [
    {
     "data": {
      "text/html": [
       "<div>\n",
       "<style scoped>\n",
       "    .dataframe tbody tr th:only-of-type {\n",
       "        vertical-align: middle;\n",
       "    }\n",
       "\n",
       "    .dataframe tbody tr th {\n",
       "        vertical-align: top;\n",
       "    }\n",
       "\n",
       "    .dataframe thead th {\n",
       "        text-align: right;\n",
       "    }\n",
       "</style>\n",
       "<table border=\"1\" class=\"dataframe\">\n",
       "  <thead>\n",
       "    <tr style=\"text-align: right;\">\n",
       "      <th></th>\n",
       "      <th>Unnamed: 0</th>\n",
       "      <th>gender</th>\n",
       "      <th>age</th>\n",
       "      <th>max_glu_serum</th>\n",
       "      <th>A1Cresult</th>\n",
       "      <th>insulin</th>\n",
       "      <th>change</th>\n",
       "      <th>diabetesMed</th>\n",
       "      <th>readmitted</th>\n",
       "      <th>readmitted_2</th>\n",
       "    </tr>\n",
       "  </thead>\n",
       "  <tbody>\n",
       "    <tr>\n",
       "      <th>0</th>\n",
       "      <td>0</td>\n",
       "      <td>0</td>\n",
       "      <td>0</td>\n",
       "      <td>-99</td>\n",
       "      <td>-99</td>\n",
       "      <td>No</td>\n",
       "      <td>0</td>\n",
       "      <td>0</td>\n",
       "      <td>0</td>\n",
       "      <td>No</td>\n",
       "    </tr>\n",
       "    <tr>\n",
       "      <th>1</th>\n",
       "      <td>1</td>\n",
       "      <td>0</td>\n",
       "      <td>10</td>\n",
       "      <td>-99</td>\n",
       "      <td>-99</td>\n",
       "      <td>Up</td>\n",
       "      <td>1</td>\n",
       "      <td>1</td>\n",
       "      <td>0</td>\n",
       "      <td>Yes</td>\n",
       "    </tr>\n",
       "    <tr>\n",
       "      <th>2</th>\n",
       "      <td>2</td>\n",
       "      <td>0</td>\n",
       "      <td>20</td>\n",
       "      <td>-99</td>\n",
       "      <td>-99</td>\n",
       "      <td>No</td>\n",
       "      <td>0</td>\n",
       "      <td>1</td>\n",
       "      <td>0</td>\n",
       "      <td>No</td>\n",
       "    </tr>\n",
       "    <tr>\n",
       "      <th>3</th>\n",
       "      <td>3</td>\n",
       "      <td>Male</td>\n",
       "      <td>30</td>\n",
       "      <td>-99</td>\n",
       "      <td>-99</td>\n",
       "      <td>Up</td>\n",
       "      <td>1</td>\n",
       "      <td>1</td>\n",
       "      <td>0</td>\n",
       "      <td>No</td>\n",
       "    </tr>\n",
       "    <tr>\n",
       "      <th>4</th>\n",
       "      <td>4</td>\n",
       "      <td>Male</td>\n",
       "      <td>40</td>\n",
       "      <td>-99</td>\n",
       "      <td>-99</td>\n",
       "      <td>Steady</td>\n",
       "      <td>1</td>\n",
       "      <td>1</td>\n",
       "      <td>0</td>\n",
       "      <td>No</td>\n",
       "    </tr>\n",
       "    <tr>\n",
       "      <th>...</th>\n",
       "      <td>...</td>\n",
       "      <td>...</td>\n",
       "      <td>...</td>\n",
       "      <td>...</td>\n",
       "      <td>...</td>\n",
       "      <td>...</td>\n",
       "      <td>...</td>\n",
       "      <td>...</td>\n",
       "      <td>...</td>\n",
       "      <td>...</td>\n",
       "    </tr>\n",
       "    <tr>\n",
       "      <th>101758</th>\n",
       "      <td>101761</td>\n",
       "      <td>Male</td>\n",
       "      <td>70</td>\n",
       "      <td>-99</td>\n",
       "      <td>1</td>\n",
       "      <td>Down</td>\n",
       "      <td>1</td>\n",
       "      <td>1</td>\n",
       "      <td>0</td>\n",
       "      <td>Yes</td>\n",
       "    </tr>\n",
       "    <tr>\n",
       "      <th>101759</th>\n",
       "      <td>101762</td>\n",
       "      <td>0</td>\n",
       "      <td>80</td>\n",
       "      <td>-99</td>\n",
       "      <td>-99</td>\n",
       "      <td>Steady</td>\n",
       "      <td>0</td>\n",
       "      <td>1</td>\n",
       "      <td>0</td>\n",
       "      <td>No</td>\n",
       "    </tr>\n",
       "    <tr>\n",
       "      <th>101760</th>\n",
       "      <td>101763</td>\n",
       "      <td>Male</td>\n",
       "      <td>70</td>\n",
       "      <td>-99</td>\n",
       "      <td>-99</td>\n",
       "      <td>Down</td>\n",
       "      <td>1</td>\n",
       "      <td>1</td>\n",
       "      <td>0</td>\n",
       "      <td>No</td>\n",
       "    </tr>\n",
       "    <tr>\n",
       "      <th>101761</th>\n",
       "      <td>101764</td>\n",
       "      <td>0</td>\n",
       "      <td>80</td>\n",
       "      <td>-99</td>\n",
       "      <td>-99</td>\n",
       "      <td>Up</td>\n",
       "      <td>1</td>\n",
       "      <td>1</td>\n",
       "      <td>0</td>\n",
       "      <td>No</td>\n",
       "    </tr>\n",
       "    <tr>\n",
       "      <th>101762</th>\n",
       "      <td>101765</td>\n",
       "      <td>Male</td>\n",
       "      <td>70</td>\n",
       "      <td>-99</td>\n",
       "      <td>-99</td>\n",
       "      <td>No</td>\n",
       "      <td>0</td>\n",
       "      <td>0</td>\n",
       "      <td>0</td>\n",
       "      <td>No</td>\n",
       "    </tr>\n",
       "  </tbody>\n",
       "</table>\n",
       "<p>101763 rows × 10 columns</p>\n",
       "</div>"
      ],
      "text/plain": [
       "        Unnamed: 0 gender  age  max_glu_serum  A1Cresult insulin  change  \\\n",
       "0                0      0    0            -99        -99      No       0   \n",
       "1                1      0   10            -99        -99      Up       1   \n",
       "2                2      0   20            -99        -99      No       0   \n",
       "3                3   Male   30            -99        -99      Up       1   \n",
       "4                4   Male   40            -99        -99  Steady       1   \n",
       "...            ...    ...  ...            ...        ...     ...     ...   \n",
       "101758      101761   Male   70            -99          1    Down       1   \n",
       "101759      101762      0   80            -99        -99  Steady       0   \n",
       "101760      101763   Male   70            -99        -99    Down       1   \n",
       "101761      101764      0   80            -99        -99      Up       1   \n",
       "101762      101765   Male   70            -99        -99      No       0   \n",
       "\n",
       "        diabetesMed  readmitted readmitted_2  \n",
       "0                 0           0           No  \n",
       "1                 1           0          Yes  \n",
       "2                 1           0           No  \n",
       "3                 1           0           No  \n",
       "4                 1           0           No  \n",
       "...             ...         ...          ...  \n",
       "101758            1           0          Yes  \n",
       "101759            1           0           No  \n",
       "101760            1           0           No  \n",
       "101761            1           0           No  \n",
       "101762            0           0           No  \n",
       "\n",
       "[101763 rows x 10 columns]"
      ]
     },
     "execution_count": 12,
     "metadata": {},
     "output_type": "execute_result"
    }
   ],
   "source": [
    "df1"
   ]
  },
  {
   "cell_type": "code",
   "execution_count": 13,
   "id": "da3fcba6",
   "metadata": {},
   "outputs": [],
   "source": [
    "#dropping columns with large number of missing values\n",
    "df1 = df1.drop(['readmitted_2'], axis = 1)"
   ]
  },
  {
   "cell_type": "code",
   "execution_count": 14,
   "id": "94613c74",
   "metadata": {},
   "outputs": [
    {
     "data": {
      "text/html": [
       "<div>\n",
       "<style scoped>\n",
       "    .dataframe tbody tr th:only-of-type {\n",
       "        vertical-align: middle;\n",
       "    }\n",
       "\n",
       "    .dataframe tbody tr th {\n",
       "        vertical-align: top;\n",
       "    }\n",
       "\n",
       "    .dataframe thead th {\n",
       "        text-align: right;\n",
       "    }\n",
       "</style>\n",
       "<table border=\"1\" class=\"dataframe\">\n",
       "  <thead>\n",
       "    <tr style=\"text-align: right;\">\n",
       "      <th></th>\n",
       "      <th>Unnamed: 0</th>\n",
       "      <th>gender</th>\n",
       "      <th>age</th>\n",
       "      <th>max_glu_serum</th>\n",
       "      <th>A1Cresult</th>\n",
       "      <th>insulin</th>\n",
       "      <th>change</th>\n",
       "      <th>diabetesMed</th>\n",
       "      <th>readmitted</th>\n",
       "    </tr>\n",
       "  </thead>\n",
       "  <tbody>\n",
       "    <tr>\n",
       "      <th>0</th>\n",
       "      <td>0</td>\n",
       "      <td>0</td>\n",
       "      <td>0</td>\n",
       "      <td>-99</td>\n",
       "      <td>-99</td>\n",
       "      <td>No</td>\n",
       "      <td>0</td>\n",
       "      <td>0</td>\n",
       "      <td>0</td>\n",
       "    </tr>\n",
       "    <tr>\n",
       "      <th>1</th>\n",
       "      <td>1</td>\n",
       "      <td>0</td>\n",
       "      <td>10</td>\n",
       "      <td>-99</td>\n",
       "      <td>-99</td>\n",
       "      <td>Up</td>\n",
       "      <td>1</td>\n",
       "      <td>1</td>\n",
       "      <td>0</td>\n",
       "    </tr>\n",
       "    <tr>\n",
       "      <th>2</th>\n",
       "      <td>2</td>\n",
       "      <td>0</td>\n",
       "      <td>20</td>\n",
       "      <td>-99</td>\n",
       "      <td>-99</td>\n",
       "      <td>No</td>\n",
       "      <td>0</td>\n",
       "      <td>1</td>\n",
       "      <td>0</td>\n",
       "    </tr>\n",
       "    <tr>\n",
       "      <th>3</th>\n",
       "      <td>3</td>\n",
       "      <td>Male</td>\n",
       "      <td>30</td>\n",
       "      <td>-99</td>\n",
       "      <td>-99</td>\n",
       "      <td>Up</td>\n",
       "      <td>1</td>\n",
       "      <td>1</td>\n",
       "      <td>0</td>\n",
       "    </tr>\n",
       "    <tr>\n",
       "      <th>4</th>\n",
       "      <td>4</td>\n",
       "      <td>Male</td>\n",
       "      <td>40</td>\n",
       "      <td>-99</td>\n",
       "      <td>-99</td>\n",
       "      <td>Steady</td>\n",
       "      <td>1</td>\n",
       "      <td>1</td>\n",
       "      <td>0</td>\n",
       "    </tr>\n",
       "    <tr>\n",
       "      <th>...</th>\n",
       "      <td>...</td>\n",
       "      <td>...</td>\n",
       "      <td>...</td>\n",
       "      <td>...</td>\n",
       "      <td>...</td>\n",
       "      <td>...</td>\n",
       "      <td>...</td>\n",
       "      <td>...</td>\n",
       "      <td>...</td>\n",
       "    </tr>\n",
       "    <tr>\n",
       "      <th>101758</th>\n",
       "      <td>101761</td>\n",
       "      <td>Male</td>\n",
       "      <td>70</td>\n",
       "      <td>-99</td>\n",
       "      <td>1</td>\n",
       "      <td>Down</td>\n",
       "      <td>1</td>\n",
       "      <td>1</td>\n",
       "      <td>0</td>\n",
       "    </tr>\n",
       "    <tr>\n",
       "      <th>101759</th>\n",
       "      <td>101762</td>\n",
       "      <td>0</td>\n",
       "      <td>80</td>\n",
       "      <td>-99</td>\n",
       "      <td>-99</td>\n",
       "      <td>Steady</td>\n",
       "      <td>0</td>\n",
       "      <td>1</td>\n",
       "      <td>0</td>\n",
       "    </tr>\n",
       "    <tr>\n",
       "      <th>101760</th>\n",
       "      <td>101763</td>\n",
       "      <td>Male</td>\n",
       "      <td>70</td>\n",
       "      <td>-99</td>\n",
       "      <td>-99</td>\n",
       "      <td>Down</td>\n",
       "      <td>1</td>\n",
       "      <td>1</td>\n",
       "      <td>0</td>\n",
       "    </tr>\n",
       "    <tr>\n",
       "      <th>101761</th>\n",
       "      <td>101764</td>\n",
       "      <td>0</td>\n",
       "      <td>80</td>\n",
       "      <td>-99</td>\n",
       "      <td>-99</td>\n",
       "      <td>Up</td>\n",
       "      <td>1</td>\n",
       "      <td>1</td>\n",
       "      <td>0</td>\n",
       "    </tr>\n",
       "    <tr>\n",
       "      <th>101762</th>\n",
       "      <td>101765</td>\n",
       "      <td>Male</td>\n",
       "      <td>70</td>\n",
       "      <td>-99</td>\n",
       "      <td>-99</td>\n",
       "      <td>No</td>\n",
       "      <td>0</td>\n",
       "      <td>0</td>\n",
       "      <td>0</td>\n",
       "    </tr>\n",
       "  </tbody>\n",
       "</table>\n",
       "<p>101763 rows × 9 columns</p>\n",
       "</div>"
      ],
      "text/plain": [
       "        Unnamed: 0 gender  age  max_glu_serum  A1Cresult insulin  change  \\\n",
       "0                0      0    0            -99        -99      No       0   \n",
       "1                1      0   10            -99        -99      Up       1   \n",
       "2                2      0   20            -99        -99      No       0   \n",
       "3                3   Male   30            -99        -99      Up       1   \n",
       "4                4   Male   40            -99        -99  Steady       1   \n",
       "...            ...    ...  ...            ...        ...     ...     ...   \n",
       "101758      101761   Male   70            -99          1    Down       1   \n",
       "101759      101762      0   80            -99        -99  Steady       0   \n",
       "101760      101763   Male   70            -99        -99    Down       1   \n",
       "101761      101764      0   80            -99        -99      Up       1   \n",
       "101762      101765   Male   70            -99        -99      No       0   \n",
       "\n",
       "        diabetesMed  readmitted  \n",
       "0                 0           0  \n",
       "1                 1           0  \n",
       "2                 1           0  \n",
       "3                 1           0  \n",
       "4                 1           0  \n",
       "...             ...         ...  \n",
       "101758            1           0  \n",
       "101759            1           0  \n",
       "101760            1           0  \n",
       "101761            1           0  \n",
       "101762            0           0  \n",
       "\n",
       "[101763 rows x 9 columns]"
      ]
     },
     "execution_count": 14,
     "metadata": {},
     "output_type": "execute_result"
    }
   ],
   "source": [
    "df1"
   ]
  },
  {
   "cell_type": "code",
   "execution_count": 15,
   "id": "3048b198",
   "metadata": {},
   "outputs": [
    {
     "data": {
      "text/plain": [
       "No        47380\n",
       "Steady    30849\n",
       "Down      12218\n",
       "Up        11316\n",
       "Name: insulin, dtype: int64"
      ]
     },
     "execution_count": 15,
     "metadata": {},
     "output_type": "execute_result"
    }
   ],
   "source": [
    "df1['insulin'].value_counts()"
   ]
  },
  {
   "cell_type": "code",
   "execution_count": 16,
   "id": "70bf4198",
   "metadata": {},
   "outputs": [],
   "source": [
    "df1 = df1.drop(set(df1['gender'][df1['gender'] == 'Male'].index))"
   ]
  },
  {
   "cell_type": "code",
   "execution_count": 18,
   "id": "f7c481eb",
   "metadata": {},
   "outputs": [],
   "source": [
    "# save dataset to new file for machine learning\n",
    "df1.to_csv('diabetic_Female.csv')"
   ]
  },
  {
   "cell_type": "code",
   "execution_count": 19,
   "id": "f5fa8d1c",
   "metadata": {},
   "outputs": [],
   "source": [
    "df1['insulin'] = df1['insulin'].replace('No', 0)\n",
    "df1['insulin'] = df1['insulin'].replace('Steady', 1)\n",
    "df1['insulin'] = df1['insulin'].replace('Up', 1)\n",
    "df1['insulin'] = df1['insulin'].replace('Down', 1)"
   ]
  },
  {
   "cell_type": "code",
   "execution_count": 20,
   "id": "c791ed36",
   "metadata": {},
   "outputs": [
    {
     "data": {
      "text/html": [
       "<div>\n",
       "<style scoped>\n",
       "    .dataframe tbody tr th:only-of-type {\n",
       "        vertical-align: middle;\n",
       "    }\n",
       "\n",
       "    .dataframe tbody tr th {\n",
       "        vertical-align: top;\n",
       "    }\n",
       "\n",
       "    .dataframe thead th {\n",
       "        text-align: right;\n",
       "    }\n",
       "</style>\n",
       "<table border=\"1\" class=\"dataframe\">\n",
       "  <thead>\n",
       "    <tr style=\"text-align: right;\">\n",
       "      <th></th>\n",
       "      <th>Unnamed: 0</th>\n",
       "      <th>gender</th>\n",
       "      <th>age</th>\n",
       "      <th>max_glu_serum</th>\n",
       "      <th>A1Cresult</th>\n",
       "      <th>insulin</th>\n",
       "      <th>change</th>\n",
       "      <th>diabetesMed</th>\n",
       "      <th>readmitted</th>\n",
       "    </tr>\n",
       "  </thead>\n",
       "  <tbody>\n",
       "    <tr>\n",
       "      <th>0</th>\n",
       "      <td>0</td>\n",
       "      <td>0</td>\n",
       "      <td>0</td>\n",
       "      <td>-99</td>\n",
       "      <td>-99</td>\n",
       "      <td>0</td>\n",
       "      <td>0</td>\n",
       "      <td>0</td>\n",
       "      <td>0</td>\n",
       "    </tr>\n",
       "    <tr>\n",
       "      <th>1</th>\n",
       "      <td>1</td>\n",
       "      <td>0</td>\n",
       "      <td>10</td>\n",
       "      <td>-99</td>\n",
       "      <td>-99</td>\n",
       "      <td>1</td>\n",
       "      <td>1</td>\n",
       "      <td>1</td>\n",
       "      <td>0</td>\n",
       "    </tr>\n",
       "    <tr>\n",
       "      <th>2</th>\n",
       "      <td>2</td>\n",
       "      <td>0</td>\n",
       "      <td>20</td>\n",
       "      <td>-99</td>\n",
       "      <td>-99</td>\n",
       "      <td>0</td>\n",
       "      <td>0</td>\n",
       "      <td>1</td>\n",
       "      <td>0</td>\n",
       "    </tr>\n",
       "    <tr>\n",
       "      <th>8</th>\n",
       "      <td>8</td>\n",
       "      <td>0</td>\n",
       "      <td>80</td>\n",
       "      <td>-99</td>\n",
       "      <td>-99</td>\n",
       "      <td>1</td>\n",
       "      <td>1</td>\n",
       "      <td>1</td>\n",
       "      <td>0</td>\n",
       "    </tr>\n",
       "    <tr>\n",
       "      <th>9</th>\n",
       "      <td>9</td>\n",
       "      <td>0</td>\n",
       "      <td>90</td>\n",
       "      <td>-99</td>\n",
       "      <td>-99</td>\n",
       "      <td>1</td>\n",
       "      <td>1</td>\n",
       "      <td>1</td>\n",
       "      <td>0</td>\n",
       "    </tr>\n",
       "    <tr>\n",
       "      <th>...</th>\n",
       "      <td>...</td>\n",
       "      <td>...</td>\n",
       "      <td>...</td>\n",
       "      <td>...</td>\n",
       "      <td>...</td>\n",
       "      <td>...</td>\n",
       "      <td>...</td>\n",
       "      <td>...</td>\n",
       "      <td>...</td>\n",
       "    </tr>\n",
       "    <tr>\n",
       "      <th>101754</th>\n",
       "      <td>101757</td>\n",
       "      <td>0</td>\n",
       "      <td>70</td>\n",
       "      <td>-99</td>\n",
       "      <td>-99</td>\n",
       "      <td>1</td>\n",
       "      <td>0</td>\n",
       "      <td>1</td>\n",
       "      <td>0</td>\n",
       "    </tr>\n",
       "    <tr>\n",
       "      <th>101755</th>\n",
       "      <td>101758</td>\n",
       "      <td>0</td>\n",
       "      <td>80</td>\n",
       "      <td>-99</td>\n",
       "      <td>-99</td>\n",
       "      <td>1</td>\n",
       "      <td>1</td>\n",
       "      <td>1</td>\n",
       "      <td>0</td>\n",
       "    </tr>\n",
       "    <tr>\n",
       "      <th>101757</th>\n",
       "      <td>101760</td>\n",
       "      <td>0</td>\n",
       "      <td>60</td>\n",
       "      <td>-99</td>\n",
       "      <td>-99</td>\n",
       "      <td>1</td>\n",
       "      <td>1</td>\n",
       "      <td>1</td>\n",
       "      <td>0</td>\n",
       "    </tr>\n",
       "    <tr>\n",
       "      <th>101759</th>\n",
       "      <td>101762</td>\n",
       "      <td>0</td>\n",
       "      <td>80</td>\n",
       "      <td>-99</td>\n",
       "      <td>-99</td>\n",
       "      <td>1</td>\n",
       "      <td>0</td>\n",
       "      <td>1</td>\n",
       "      <td>0</td>\n",
       "    </tr>\n",
       "    <tr>\n",
       "      <th>101761</th>\n",
       "      <td>101764</td>\n",
       "      <td>0</td>\n",
       "      <td>80</td>\n",
       "      <td>-99</td>\n",
       "      <td>-99</td>\n",
       "      <td>1</td>\n",
       "      <td>1</td>\n",
       "      <td>1</td>\n",
       "      <td>0</td>\n",
       "    </tr>\n",
       "  </tbody>\n",
       "</table>\n",
       "<p>54708 rows × 9 columns</p>\n",
       "</div>"
      ],
      "text/plain": [
       "        Unnamed: 0 gender  age  max_glu_serum  A1Cresult  insulin  change  \\\n",
       "0                0      0    0            -99        -99        0       0   \n",
       "1                1      0   10            -99        -99        1       1   \n",
       "2                2      0   20            -99        -99        0       0   \n",
       "8                8      0   80            -99        -99        1       1   \n",
       "9                9      0   90            -99        -99        1       1   \n",
       "...            ...    ...  ...            ...        ...      ...     ...   \n",
       "101754      101757      0   70            -99        -99        1       0   \n",
       "101755      101758      0   80            -99        -99        1       1   \n",
       "101757      101760      0   60            -99        -99        1       1   \n",
       "101759      101762      0   80            -99        -99        1       0   \n",
       "101761      101764      0   80            -99        -99        1       1   \n",
       "\n",
       "        diabetesMed  readmitted  \n",
       "0                 0           0  \n",
       "1                 1           0  \n",
       "2                 1           0  \n",
       "8                 1           0  \n",
       "9                 1           0  \n",
       "...             ...         ...  \n",
       "101754            1           0  \n",
       "101755            1           0  \n",
       "101757            1           0  \n",
       "101759            1           0  \n",
       "101761            1           0  \n",
       "\n",
       "[54708 rows x 9 columns]"
      ]
     },
     "execution_count": 20,
     "metadata": {},
     "output_type": "execute_result"
    }
   ],
   "source": [
    "df1"
   ]
  },
  {
   "cell_type": "code",
   "execution_count": 21,
   "id": "9f4e4fda",
   "metadata": {},
   "outputs": [
    {
     "data": {
      "text/plain": [
       "0    48556\n",
       "1     6152\n",
       "Name: readmitted, dtype: int64"
      ]
     },
     "execution_count": 21,
     "metadata": {},
     "output_type": "execute_result"
    }
   ],
   "source": [
    "df1['readmitted'].value_counts()"
   ]
  },
  {
   "cell_type": "code",
   "execution_count": 22,
   "id": "1073c2c0",
   "metadata": {},
   "outputs": [],
   "source": [
    "#Loading libraries \n",
    "import pandas as pd\n",
    "import numpy as np\n",
    "import matplotlib.pyplot as plt\n",
    "import seaborn as sns"
   ]
  },
  {
   "cell_type": "code",
   "execution_count": 23,
   "id": "15b6fbc4",
   "metadata": {},
   "outputs": [
    {
     "data": {
      "text/plain": [
       "<matplotlib.legend.Legend at 0x247b51b6400>"
      ]
     },
     "execution_count": 23,
     "metadata": {},
     "output_type": "execute_result"
    },
    {
     "data": {
      "image/png": "[encoded data removed]",
      "text/plain": [
       "<Figure size 1080x720 with 1 Axes>"
      ]
     },
     "metadata": {
      "needs_background": "light"
     },
     "output_type": "display_data"
    }
   ],
   "source": [
    "plt.figure(figsize=(15, 10))\n",
    "sns.histplot(df1.age[df1.readmitted == 0], color=\"y\", label=\"No Diabetic\" , kde = True )\n",
    "sns.histplot(df1.age[df1.readmitted == 1], color=\"b\", label=\"Diabetic\" , kde = True )\n",
    "plt.title(\"Relation b/w Age and Diabetes\")\n",
    "\n",
    "plt.xticks(df1[\"age\"].unique())\n",
    "plt.legend()"
   ]
  },
  {
   "cell_type": "code",
   "execution_count": 24,
   "id": "598911cc",
   "metadata": {},
   "outputs": [
    {
     "data": {
      "text/plain": [
       "Index(['Unnamed: 0', 'gender', 'age', 'max_glu_serum', 'A1Cresult', 'insulin',\n",
       "       'change', 'diabetesMed', 'readmitted'],\n",
       "      dtype='object')"
      ]
     },
     "execution_count": 24,
     "metadata": {},
     "output_type": "execute_result"
    }
   ],
   "source": [
    "df1.columns"
   ]
  },
  {
   "cell_type": "code",
   "execution_count": 25,
   "id": "4f29bdae",
   "metadata": {
    "scrolled": true
   },
   "outputs": [],
   "source": [
    "feature_set = ['gender', 'age', 'max_glu_serum', 'A1Cresult', 'insulin', 'change',\n",
    "       'diabetesMed', 'readmitted']"
   ]
  },
  {
   "cell_type": "code",
   "execution_count": 26,
   "id": "19545559",
   "metadata": {},
   "outputs": [],
   "source": [
    "X = df1[feature_set]\n",
    "y = df1['readmitted']"
   ]
  },
  {
   "cell_type": "code",
   "execution_count": 27,
   "id": "16be556f",
   "metadata": {},
   "outputs": [
    {
     "data": {
      "text/plain": [
       "0    48556\n",
       "1     6152\n",
       "Name: readmitted, dtype: int64"
      ]
     },
     "execution_count": 27,
     "metadata": {},
     "output_type": "execute_result"
    }
   ],
   "source": [
    "df1['readmitted'].value_counts()"
   ]
  },
  {
   "cell_type": "raw",
   "id": "e4769482",
   "metadata": {},
   "source": [
    "Data Balancing using SMOTE :\n",
    "In order to cope with unbalanced data, there are 2 options :\n",
    "\n",
    "Undersampling : Trim down the majority samples of the target variable.\n",
    "Oversampling : Increase the minority samples of the target variable to the majority samples.\n",
    "In this case, we will oversample the minority class.\n",
    "For data balancing, we will use imblearn.\n",
    "pip statement : pip install imbalanced-learn\n",
    "Due to the use of synthetic data, we cannot evaluate the models using accuracy. We have duplicated the data, thus using accuracy would be misleading to evaluate the model.\n",
    "We will use the confusion matrix, ROC-AUC graph-score for model evaluation. ROC-AUC gives us the relation between True Positive and False Positive rate."
   ]
  },
  {
   "cell_type": "code",
   "execution_count": 28,
   "id": "5210c40c",
   "metadata": {},
   "outputs": [],
   "source": [
    "import imblearn\n",
    "from collections import Counter\n",
    "from imblearn.over_sampling import SMOTE\n",
    "from sklearn.model_selection import train_test_split\n",
    "from sklearn.model_selection import StratifiedShuffleSplit"
   ]
  },
  {
   "cell_type": "code",
   "execution_count": 29,
   "id": "f3a4289b",
   "metadata": {},
   "outputs": [
    {
     "data": {
      "text/html": [
       "<div>\n",
       "<style scoped>\n",
       "    .dataframe tbody tr th:only-of-type {\n",
       "        vertical-align: middle;\n",
       "    }\n",
       "\n",
       "    .dataframe tbody tr th {\n",
       "        vertical-align: top;\n",
       "    }\n",
       "\n",
       "    .dataframe thead th {\n",
       "        text-align: right;\n",
       "    }\n",
       "</style>\n",
       "<table border=\"1\" class=\"dataframe\">\n",
       "  <thead>\n",
       "    <tr style=\"text-align: right;\">\n",
       "      <th></th>\n",
       "      <th>Unnamed: 0</th>\n",
       "      <th>gender</th>\n",
       "      <th>age</th>\n",
       "      <th>max_glu_serum</th>\n",
       "      <th>A1Cresult</th>\n",
       "      <th>insulin</th>\n",
       "      <th>change</th>\n",
       "      <th>diabetesMed</th>\n",
       "      <th>readmitted</th>\n",
       "    </tr>\n",
       "  </thead>\n",
       "  <tbody>\n",
       "    <tr>\n",
       "      <th>0</th>\n",
       "      <td>0</td>\n",
       "      <td>0</td>\n",
       "      <td>0</td>\n",
       "      <td>-99</td>\n",
       "      <td>-99</td>\n",
       "      <td>0</td>\n",
       "      <td>0</td>\n",
       "      <td>0</td>\n",
       "      <td>0</td>\n",
       "    </tr>\n",
       "    <tr>\n",
       "      <th>1</th>\n",
       "      <td>1</td>\n",
       "      <td>0</td>\n",
       "      <td>10</td>\n",
       "      <td>-99</td>\n",
       "      <td>-99</td>\n",
       "      <td>1</td>\n",
       "      <td>1</td>\n",
       "      <td>1</td>\n",
       "      <td>0</td>\n",
       "    </tr>\n",
       "    <tr>\n",
       "      <th>2</th>\n",
       "      <td>2</td>\n",
       "      <td>0</td>\n",
       "      <td>20</td>\n",
       "      <td>-99</td>\n",
       "      <td>-99</td>\n",
       "      <td>0</td>\n",
       "      <td>0</td>\n",
       "      <td>1</td>\n",
       "      <td>0</td>\n",
       "    </tr>\n",
       "    <tr>\n",
       "      <th>8</th>\n",
       "      <td>8</td>\n",
       "      <td>0</td>\n",
       "      <td>80</td>\n",
       "      <td>-99</td>\n",
       "      <td>-99</td>\n",
       "      <td>1</td>\n",
       "      <td>1</td>\n",
       "      <td>1</td>\n",
       "      <td>0</td>\n",
       "    </tr>\n",
       "    <tr>\n",
       "      <th>9</th>\n",
       "      <td>9</td>\n",
       "      <td>0</td>\n",
       "      <td>90</td>\n",
       "      <td>-99</td>\n",
       "      <td>-99</td>\n",
       "      <td>1</td>\n",
       "      <td>1</td>\n",
       "      <td>1</td>\n",
       "      <td>0</td>\n",
       "    </tr>\n",
       "  </tbody>\n",
       "</table>\n",
       "</div>"
      ],
      "text/plain": [
       "   Unnamed: 0 gender  age  max_glu_serum  A1Cresult  insulin  change  \\\n",
       "0           0      0    0            -99        -99        0       0   \n",
       "1           1      0   10            -99        -99        1       1   \n",
       "2           2      0   20            -99        -99        0       0   \n",
       "8           8      0   80            -99        -99        1       1   \n",
       "9           9      0   90            -99        -99        1       1   \n",
       "\n",
       "   diabetesMed  readmitted  \n",
       "0            0           0  \n",
       "1            1           0  \n",
       "2            1           0  \n",
       "8            1           0  \n",
       "9            1           0  "
      ]
     },
     "execution_count": 29,
     "metadata": {},
     "output_type": "execute_result"
    }
   ],
   "source": [
    "f1 = df1.iloc[:,:7].values\n",
    "t1 = df1.iloc[:,7].values\n",
    "\n",
    "df2 = df1.copy(deep = True)\n",
    "df2.head()"
   ]
  },
  {
   "cell_type": "raw",
   "id": "691d500f",
   "metadata": {},
   "source": [
    "Creating a deep copy of the orginal dataset.\n",
    "This is done in order to highlight the model performances when trained on balanced and unbalanced datasets.\n",
    "We will now move onto data balancing!\n",
    "\n",
    "Data Balancing using SMOTE :\n",
    "In order to cope with unbalanced data, there are 2 options :\n",
    "\n",
    "Undersampling : Trim down the majority samples of the target variable.\n",
    "Oversampling : Increase the minority samples of the target variable to the majority samples.\n",
    "In this case, we will oversample the minority class.\n",
    "For data balancing, we will use imblearn.\n",
    "pip statement : pip install imbalanced-learn\n",
    "Due to the use of synthetic data, we cannot evaluate the models using accuracy. We have duplicated the data, thus using accuracy would be misleading to evaluate the model.\n",
    "We will use the confusion matrix, ROC-AUC graph-score for model evaluation. ROC-AUC gives us the relation between True Positive and False Positive rate."
   ]
  },
  {
   "cell_type": "code",
   "execution_count": 30,
   "id": "6dbf4f9e",
   "metadata": {},
   "outputs": [],
   "source": [
    "import imblearn\n",
    "from collections import Counter\n",
    "from imblearn.over_sampling import SMOTE"
   ]
  },
  {
   "cell_type": "code",
   "execution_count": 31,
   "id": "a0476c5d",
   "metadata": {},
   "outputs": [
    {
     "data": {
      "text/plain": [
       "Counter({0: 41787, 1: 41787})"
      ]
     },
     "execution_count": 31,
     "metadata": {},
     "output_type": "execute_result"
    }
   ],
   "source": [
    "over = SMOTE()\n",
    "f2 = df1.iloc[:,:7].values\n",
    "t2 = df1.iloc[:,7].values\n",
    "f2, t2 = over.fit_resample(f2, t2)\n",
    "Counter(t2)"
   ]
  },
  {
   "cell_type": "markdown",
   "id": "ac4bbf50",
   "metadata": {},
   "source": [
    "## Modeling"
   ]
  },
  {
   "cell_type": "code",
   "execution_count": 32,
   "id": "ff9dab85",
   "metadata": {},
   "outputs": [],
   "source": [
    "from sklearn.model_selection import train_test_split\n",
    "from sklearn.metrics import confusion_matrix\n",
    "from sklearn.metrics import roc_auc_score\n",
    "from sklearn.metrics import plot_roc_curve\n",
    "from sklearn.model_selection import cross_val_score\n",
    "from sklearn.model_selection import GridSearchCV\n",
    "from sklearn.metrics import classification_report\n",
    "from sklearn.metrics import accuracy_score\n",
    "from sklearn.model_selection import RepeatedStratifiedKFold\n",
    "from sklearn.metrics import precision_recall_curve"
   ]
  },
  {
   "cell_type": "code",
   "execution_count": 33,
   "id": "b0763a38",
   "metadata": {},
   "outputs": [],
   "source": [
    "x_train1, x_test1, y_train1, y_test1 = train_test_split(f1, t1, test_size = 0.25, random_state = 2) # Unbalanced\n",
    "x_train2, x_test2, y_train2, y_test2 = train_test_split(f2, t2, test_size = 0.25, random_state = 2) # Balanced"
   ]
  },
  {
   "cell_type": "markdown",
   "id": "81ad37a5",
   "metadata": {},
   "source": [
    "Selecting the features from the above conducted tests and splitting the data into 75 - 25 train - test groups."
   ]
  },
  {
   "cell_type": "code",
   "execution_count": 34,
   "id": "04bc1bea",
   "metadata": {},
   "outputs": [],
   "source": [
    "def model(classifier,x_train,y_train,x_test,y_test):\n",
    "    \n",
    "    classifier.fit(x_train,y_train)\n",
    "    prediction = classifier.predict(x_test)\n",
    "    cv = RepeatedStratifiedKFold(n_splits = 10,n_repeats = 3,random_state = 1)\n",
    "    print(\"Cross Validation Score : \",'{0:.2%}'.format(cross_val_score(classifier,x_train,y_train,cv = cv,scoring = 'roc_auc').mean()))\n",
    "    print(\"ROC_AUC Score : \",'{0:.2%}'.format(roc_auc_score(y_test,prediction)))\n",
    "    plot_roc_curve(classifier, x_test,y_test)\n",
    "    plt.title('ROC_AUC_Plot')\n",
    "    plt.show()\n",
    "\n",
    "def model_evaluation(classifier,x_test,y_test):\n",
    "    \n",
    "    # Confusion Matrix\n",
    "    cm = confusion_matrix(y_test,classifier.predict(x_test))\n",
    "    names = ['True Neg','False Pos','False Neg','True Pos']\n",
    "    counts = [value for value in cm.flatten()]\n",
    "    percentages = ['{0:.2%}'.format(value) for value in cm.flatten()/np.sum(cm)]\n",
    "    labels = [f'{v1}\\n{v2}\\n{v3}' for v1, v2, v3 in zip(names,counts,percentages)]\n",
    "    labels = np.asarray(labels).reshape(2,2)\n",
    "    sns.heatmap(cm,annot = labels,cmap = 'Blues',fmt ='')\n",
    "    \n",
    "    # Classification Report\n",
    "    print(classification_report(y_test,classifier.predict(x_test)))"
   ]
  },
  {
   "cell_type": "code",
   "execution_count": 35,
   "id": "845606c4",
   "metadata": {},
   "outputs": [],
   "source": [
    "## Xgboost Classifier :\n",
    "from xgboost import XGBClassifier\n",
    "\n",
    "classifier_xgb = XGBClassifier(learning_rate= 0.01,max_depth = 3,n_estimators = 1000)"
   ]
  },
  {
   "cell_type": "code",
   "execution_count": 36,
   "id": "e9601250",
   "metadata": {},
   "outputs": [
    {
     "name": "stdout",
     "output_type": "stream",
     "text": [
      "Cross Validation Score :  91.45%\n",
      "ROC_AUC Score :  90.65%\n"
     ]
    },
    {
     "name": "stderr",
     "output_type": "stream",
     "text": [
      "C:\\Users\\Ashvini Alashetty\\Anaconda3\\lib\\site-packages\\sklearn\\utils\\deprecation.py:87: FutureWarning: Function plot_roc_curve is deprecated; Function :func:`plot_roc_curve` is deprecated in 1.0 and will be removed in 1.2. Use one of the class methods: :meth:`sklearn.metrics.RocCurveDisplay.from_predictions` or :meth:`sklearn.metrics.RocCurveDisplay.from_estimator`.\n",
      "  warnings.warn(msg, category=FutureWarning)\n"
     ]
    },
    {
     "data": {
      "image/png": "[encoded data removed]",
      "text/plain": [
       "<Figure size 432x288 with 1 Axes>"
      ]
     },
     "metadata": {
      "needs_background": "light"
     },
     "output_type": "display_data"
    },
    {
     "name": "stdout",
     "output_type": "stream",
     "text": [
      "              precision    recall  f1-score   support\n",
      "\n",
      "           0       0.62      1.00      0.77      3240\n",
      "           1       1.00      0.81      0.90     10437\n",
      "\n",
      "    accuracy                           0.86     13677\n",
      "   macro avg       0.81      0.91      0.83     13677\n",
      "weighted avg       0.91      0.86      0.87     13677\n",
      "\n"
     ]
    },
    {
     "data": {
      "image/png": "[encoded data removed]",
      "text/plain": [
       "<Figure size 432x288 with 2 Axes>"
      ]
     },
     "metadata": {
      "needs_background": "light"
     },
     "output_type": "display_data"
    }
   ],
   "source": [
    "#### Unbalanced Dataset :\n",
    "model(classifier_xgb,x_train1,y_train1,x_test1,y_test1)\n",
    "model_evaluation(classifier_xgb,x_test1,y_test1)"
   ]
  },
  {
   "cell_type": "code",
   "execution_count": 37,
   "id": "296d9532",
   "metadata": {},
   "outputs": [
    {
     "name": "stdout",
     "output_type": "stream",
     "text": [
      "Cross Validation Score :  96.01%\n",
      "ROC_AUC Score :  90.16%\n"
     ]
    },
    {
     "name": "stderr",
     "output_type": "stream",
     "text": [
      "C:\\Users\\Ashvini Alashetty\\Anaconda3\\lib\\site-packages\\sklearn\\utils\\deprecation.py:87: FutureWarning: Function plot_roc_curve is deprecated; Function :func:`plot_roc_curve` is deprecated in 1.0 and will be removed in 1.2. Use one of the class methods: :meth:`sklearn.metrics.RocCurveDisplay.from_predictions` or :meth:`sklearn.metrics.RocCurveDisplay.from_estimator`.\n",
      "  warnings.warn(msg, category=FutureWarning)\n"
     ]
    },
    {
     "data": {
      "image/png": "[encoded data removed]",
      "text/plain": [
       "<Figure size 432x288 with 1 Axes>"
      ]
     },
     "metadata": {
      "needs_background": "light"
     },
     "output_type": "display_data"
    },
    {
     "name": "stdout",
     "output_type": "stream",
     "text": [
      "              precision    recall  f1-score   support\n",
      "\n",
      "           0       0.84      1.00      0.91     10451\n",
      "           1       1.00      0.80      0.89     10443\n",
      "\n",
      "    accuracy                           0.90     20894\n",
      "   macro avg       0.92      0.90      0.90     20894\n",
      "weighted avg       0.92      0.90      0.90     20894\n",
      "\n"
     ]
    },
    {
     "data": {
      "image/png": "[encoded data removed]",
      "text/plain": [
       "<Figure size 432x288 with 2 Axes>"
      ]
     },
     "metadata": {
      "needs_background": "light"
     },
     "output_type": "display_data"
    }
   ],
   "source": [
    "#### Balanced Dataset :\n",
    "model(classifier_xgb,x_train2,y_train2,x_test2,y_test2)\n",
    "model_evaluation(classifier_xgb,x_test2,y_test2)"
   ]
  },
  {
   "cell_type": "code",
   "execution_count": 38,
   "id": "6c9f9a0d",
   "metadata": {},
   "outputs": [],
   "source": [
    "## LightGBM Classifier :\n",
    "from lightgbm import LGBMClassifier\n",
    "\n",
    "classifier_lgbm = LGBMClassifier(learning_rate= 0.01,max_depth = 3,n_estimators = 1000)"
   ]
  },
  {
   "cell_type": "code",
   "execution_count": 39,
   "id": "e9a99d21",
   "metadata": {},
   "outputs": [
    {
     "name": "stdout",
     "output_type": "stream",
     "text": [
      "Cross Validation Score :  91.48%\n",
      "ROC_AUC Score :  90.60%\n"
     ]
    },
    {
     "name": "stderr",
     "output_type": "stream",
     "text": [
      "C:\\Users\\Ashvini Alashetty\\Anaconda3\\lib\\site-packages\\sklearn\\utils\\deprecation.py:87: FutureWarning: Function plot_roc_curve is deprecated; Function :func:`plot_roc_curve` is deprecated in 1.0 and will be removed in 1.2. Use one of the class methods: :meth:`sklearn.metrics.RocCurveDisplay.from_predictions` or :meth:`sklearn.metrics.RocCurveDisplay.from_estimator`.\n",
      "  warnings.warn(msg, category=FutureWarning)\n"
     ]
    },
    {
     "data": {
      "image/png": "[encoded data removed]",
      "text/plain": [
       "<Figure size 432x288 with 1 Axes>"
      ]
     },
     "metadata": {
      "needs_background": "light"
     },
     "output_type": "display_data"
    },
    {
     "name": "stdout",
     "output_type": "stream",
     "text": [
      "              precision    recall  f1-score   support\n",
      "\n",
      "           0       0.62      1.00      0.77      3240\n",
      "           1       1.00      0.81      0.90     10437\n",
      "\n",
      "    accuracy                           0.86     13677\n",
      "   macro avg       0.81      0.91      0.83     13677\n",
      "weighted avg       0.91      0.86      0.87     13677\n",
      "\n"
     ]
    },
    {
     "data": {
      "image/png": "[encoded data removed]",
      "text/plain": [
       "<Figure size 432x288 with 2 Axes>"
      ]
     },
     "metadata": {
      "needs_background": "light"
     },
     "output_type": "display_data"
    }
   ],
   "source": [
    "#### Unbalanced Dataset :\n",
    "model(classifier_lgbm,x_train1,y_train1,x_test1,y_test1)\n",
    "model_evaluation(classifier_lgbm,x_test1,y_test1)"
   ]
  },
  {
   "cell_type": "code",
   "execution_count": 40,
   "id": "e7e254ac",
   "metadata": {},
   "outputs": [
    {
     "name": "stdout",
     "output_type": "stream",
     "text": [
      "Cross Validation Score :  96.00%\n",
      "ROC_AUC Score :  90.16%\n"
     ]
    },
    {
     "name": "stderr",
     "output_type": "stream",
     "text": [
      "C:\\Users\\Ashvini Alashetty\\Anaconda3\\lib\\site-packages\\sklearn\\utils\\deprecation.py:87: FutureWarning: Function plot_roc_curve is deprecated; Function :func:`plot_roc_curve` is deprecated in 1.0 and will be removed in 1.2. Use one of the class methods: :meth:`sklearn.metrics.RocCurveDisplay.from_predictions` or :meth:`sklearn.metrics.RocCurveDisplay.from_estimator`.\n",
      "  warnings.warn(msg, category=FutureWarning)\n"
     ]
    },
    {
     "data": {
      "image/png": "[encoded data removed]",
      "text/plain": [
       "<Figure size 432x288 with 1 Axes>"
      ]
     },
     "metadata": {
      "needs_background": "light"
     },
     "output_type": "display_data"
    },
    {
     "name": "stdout",
     "output_type": "stream",
     "text": [
      "              precision    recall  f1-score   support\n",
      "\n",
      "           0       0.84      1.00      0.91     10451\n",
      "           1       1.00      0.80      0.89     10443\n",
      "\n",
      "    accuracy                           0.90     20894\n",
      "   macro avg       0.92      0.90      0.90     20894\n",
      "weighted avg       0.92      0.90      0.90     20894\n",
      "\n"
     ]
    },
    {
     "data": {
      "image/png": "[encoded data removed]",
      "text/plain": [
       "<Figure size 432x288 with 2 Axes>"
      ]
     },
     "metadata": {
      "needs_background": "light"
     },
     "output_type": "display_data"
    }
   ],
   "source": [
    "#### Balanced Dataset :\n",
    "model(classifier_lgbm,x_train2,y_train2,x_test2,y_test2)\n",
    "model_evaluation(classifier_lgbm,x_test2,y_test2)"
   ]
  },
  {
   "cell_type": "code",
   "execution_count": 41,
   "id": "56e5a95b",
   "metadata": {},
   "outputs": [],
   "source": [
    "### Stack of XGBClassifier and LightGBMClassifier :\n",
    "from sklearn.ensemble import StackingClassifier\n",
    "\n",
    "stack = StackingClassifier(estimators = [('classifier_xgb',classifier_xgb),\n",
    "                                         ('classifier_lgbm',classifier_lgbm)],\n",
    "                           final_estimator = classifier_lgbm)"
   ]
  },
  {
   "cell_type": "markdown",
   "id": "4278ef8e",
   "metadata": {},
   "source": [
    "##### For stacking of classifiers, we stack the above 2 classifiers :\n",
    "+ XGBClassifier\n",
    "+ LightGBMClassifier\n",
    "It has an important hyperparameter known as final_estimator. It is the final classifier that makes the final prediction by using the predicted classes by the various classifier and predicts the final output."
   ]
  },
  {
   "cell_type": "code",
   "execution_count": null,
   "id": "d14432db",
   "metadata": {},
   "outputs": [],
   "source": [
    "#### Unbalanced Dataset :\n",
    "model(stack,x_train1,y_train1,x_test1,y_test1)\n",
    "model_evaluation(stack,x_test1,y_test1)"
   ]
  },
  {
   "cell_type": "code",
   "execution_count": null,
   "id": "0acd18b0",
   "metadata": {},
   "outputs": [],
   "source": [
    "#### Balanced Dataset :\n",
    "model(stack,x_train2,y_train2,x_test2,y_test2)\n",
    "model_evaluation(stack,x_test2,y_test2)"
   ]
  }
 ],
 "metadata": {
  "kernelspec": {
   "display_name": "Python 3 (ipykernel)",
   "language": "python",
   "name": "python3"
  },
  "language_info": {
   "codemirror_mode": {
    "name": "ipython",
    "version": 3
   },
   "file_extension": ".py",
   "mimetype": "text/x-python",
   "name": "python",
   "nbconvert_exporter": "python",
   "pygments_lexer": "ipython3",
   "version": "3.9.12"
  }
 },
 "nbformat": 4,
 "nbformat_minor": 5
}
